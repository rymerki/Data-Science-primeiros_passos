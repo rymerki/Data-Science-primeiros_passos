{
  "nbformat": 4,
  "nbformat_minor": 0,
  "metadata": {
    "colab": {
      "name": "Introdução python.ipynb",
      "provenance": [],
      "collapsed_sections": [],
      "authorship_tag": "ABX9TyOVGt3vmR9602k/FabSpAuJ",
      "include_colab_link": true
    },
    "kernelspec": {
      "name": "python3",
      "display_name": "Python 3"
    }
  },
  "cells": [
    {
      "cell_type": "markdown",
      "metadata": {
        "id": "view-in-github",
        "colab_type": "text"
      },
      "source": [
        "<a href=\"https://colab.research.google.com/github/rymerki/Data-Science-primeiros_passos/blob/master/Introdu%C3%A7%C3%A3o_python.ipynb\" target=\"_parent\"><img src=\"https://colab.research.google.com/assets/colab-badge.svg\" alt=\"Open In Colab\"/></a>"
      ]
    },
    {
      "cell_type": "code",
      "metadata": {
        "id": "T46P6MO0fF1_",
        "colab_type": "code",
        "colab": {
          "base_uri": "https://localhost:8080/",
          "height": 35
        },
        "outputId": "f912c415-8820-4d24-8b45-39bcb8a0b011"
      },
      "source": [
        "nome = \"Íris\"\n",
        "nome"
      ],
      "execution_count": null,
      "outputs": [
        {
          "output_type": "execute_result",
          "data": {
            "application/vnd.google.colaboratory.intrinsic+json": {
              "type": "string"
            },
            "text/plain": [
              "'Íris'"
            ]
          },
          "metadata": {
            "tags": []
          },
          "execution_count": 1
        }
      ]
    },
    {
      "cell_type": "code",
      "metadata": {
        "id": "EWFrfD-cNW28",
        "colab_type": "code",
        "colab": {}
      },
      "source": [
        ""
      ],
      "execution_count": null,
      "outputs": []
    },
    {
      "cell_type": "markdown",
      "metadata": {
        "id": "b35mq92LNN_R",
        "colab_type": "text"
      },
      "source": [
        "# Função sem parâmetro"
      ]
    },
    {
      "cell_type": "code",
      "metadata": {
        "id": "-ajq-4MWKviW",
        "colab_type": "code",
        "colab": {
          "base_uri": "https://localhost:8080/",
          "height": 51
        },
        "outputId": "6b289ae6-391c-42ea-bfd9-0f53fec39d01"
      },
      "source": [
        "def saudacao():\n",
        "  nome = input('Qual é o seu nome? ')\n",
        "  print(f'Olá, {nome}!')\n",
        "\n",
        "saudacao()\n"
      ],
      "execution_count": null,
      "outputs": [
        {
          "output_type": "stream",
          "text": [
            "Qual é o seu nome?iris\n",
            "Olá, iris!\n"
          ],
          "name": "stdout"
        }
      ]
    },
    {
      "cell_type": "markdown",
      "metadata": {
        "id": "PmwZpbB8NwjY",
        "colab_type": "text"
      },
      "source": [
        "# Função com parâmetro"
      ]
    },
    {
      "cell_type": "code",
      "metadata": {
        "id": "JkWXEL3FMyOY",
        "colab_type": "code",
        "colab": {
          "base_uri": "https://localhost:8080/",
          "height": 34
        },
        "outputId": "f95f9a73-e826-4e95-ab70-cf14e920de73"
      },
      "source": [
        "nome = 'Íris'\n",
        "\n",
        "def saudacao(nome_da_pessoa):\n",
        "  print(f'Olá, {nome_da_pessoa}!')\n",
        "\n",
        "saudacao(nome)"
      ],
      "execution_count": null,
      "outputs": [
        {
          "output_type": "stream",
          "text": [
            "Olá, Íris!\n"
          ],
          "name": "stdout"
        }
      ]
    },
    {
      "cell_type": "markdown",
      "metadata": {
        "id": "qssR9_-SONrz",
        "colab_type": "text"
      },
      "source": [
        "# Condicionais (if e else)"
      ]
    },
    {
      "cell_type": "code",
      "metadata": {
        "id": "FYXV144vOM9z",
        "colab_type": "code",
        "colab": {
          "base_uri": "https://localhost:8080/",
          "height": 34
        },
        "outputId": "45b887ce-b4e9-4b60-d8da-a20161104d6f"
      },
      "source": [
        "idade = 10\n",
        "\n",
        "def verifica_se_pode_dirigir_com_parametros(idade):\n",
        "  if idade >= 18:\n",
        "    print('Tem permissão para dirigir')\n",
        "  else:\n",
        "    print('Não tem permissão para dirigir')\n",
        "\n",
        "verifica_se_pode_dirigir_com_parametros(idade)"
      ],
      "execution_count": null,
      "outputs": [
        {
          "output_type": "stream",
          "text": [
            "Não tem permissão para dirigir\n"
          ],
          "name": "stdout"
        }
      ]
    },
    {
      "cell_type": "code",
      "metadata": {
        "id": "kKERuy8eTB0h",
        "colab_type": "code",
        "colab": {
          "base_uri": "https://localhost:8080/",
          "height": 51
        },
        "outputId": "e0623562-1930-4d72-94fc-ccd79d4b6504"
      },
      "source": [
        "def verifica_se_pode_dirigir_sem_parametros():\n",
        "  idade = input('Qual sua idade? ')\n",
        "  idade = int(idade)\n",
        "  if idade >= 18:\n",
        "    print('Tem permissão para dirigir')\n",
        "  else:\n",
        "    print('Não tem permissão para dirigir')\n",
        "\n",
        "verifica_se_pode_dirigir_sem_parametros()"
      ],
      "execution_count": null,
      "outputs": [
        {
          "output_type": "stream",
          "text": [
            "Qual sua idade? 21\n",
            "Tem permissão para dirigir\n"
          ],
          "name": "stdout"
        }
      ]
    }
  ]
}